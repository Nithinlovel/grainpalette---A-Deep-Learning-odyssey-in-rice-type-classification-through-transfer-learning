{
 "cells": [
  {
   "cell_type": "code",
   "execution_count": 1,
   "metadata": {
    "colab": {
     "base_uri": "https://localhost:8080/",
     "height": 92
    },
    "id": "riUW5DG3J7BU",
    "outputId": "39959bff-11d7-41a5-ceb1-0b7c340bc801",
    "scrolled": true
   },
   "outputs": [
    {
     "ename": "ModuleNotFoundError",
     "evalue": "No module named 'google.colab'",
     "output_type": "error",
     "traceback": [
      "\u001b[1;31m---------------------------------------------------------------------------\u001b[0m",
      "\u001b[1;31mModuleNotFoundError\u001b[0m                       Traceback (most recent call last)",
      "Cell \u001b[1;32mIn[1], line 1\u001b[0m\n\u001b[1;32m----> 1\u001b[0m \u001b[38;5;28;01mfrom\u001b[39;00m \u001b[38;5;21;01mgoogle\u001b[39;00m\u001b[38;5;21;01m.\u001b[39;00m\u001b[38;5;21;01mcolab\u001b[39;00m \u001b[38;5;28;01mimport\u001b[39;00m files\n\u001b[0;32m      3\u001b[0m uploaded \u001b[38;5;241m=\u001b[39m files\u001b[38;5;241m.\u001b[39mupload()\n\u001b[0;32m      4\u001b[0m \u001b[38;5;28;01mfor\u001b[39;00m fn \u001b[38;5;129;01min\u001b[39;00m uploaded\u001b[38;5;241m.\u001b[39mkeys():\n",
      "\u001b[1;31mModuleNotFoundError\u001b[0m: No module named 'google.colab'"
     ]
    }
   ],
   "source": [
    "from google.colab import files\n",
    "\n",
    "uploaded = files.upload()\n",
    "for fn in uploaded.keys():\n",
    "    print('User uploaded file \"{name}\" with length {length} bytes'.format(\n",
    "        name=fn, length=len(uploaded[fn])))"
   ]
  },
  {
   "cell_type": "code",
   "execution_count": null,
   "metadata": {
    "id": "e1UiE2pQKDwt"
   },
   "outputs": [],
   "source": [
    "!mkdir -p ~/.kaggle/ && mv kaggle.json ~/.kaggle/ && chmod 600 ~/.kaggle/kaggle.json"
   ]
  },
  {
   "cell_type": "code",
   "execution_count": null,
   "metadata": {
    "colab": {
     "base_uri": "https://localhost:8080/"
    },
    "id": "ceviY-dOKGrr",
    "outputId": "f22ec2fd-3bc5-4df5-c16c-2037d498b313"
   },
   "outputs": [],
   "source": [
    "!kaggle datasets download -d muratkokludataset/rice-image-dataset"
   ]
  },
  {
   "cell_type": "code",
   "execution_count": null,
   "metadata": {
    "colab": {
     "base_uri": "https://localhost:8080/"
    },
    "id": "B5sz-qZSKNo2",
    "outputId": "fadc5bcf-a06d-4f42-fd00-f9ceff996763"
   },
   "outputs": [],
   "source": [
    "from zipfile import ZipFile\n",
    "\n",
    "file_name = \"/content/rice-image-dataset.zip\"\n",
    "with ZipFile(file_name, 'r') as zip:\n",
    "    zip.extractall()\n",
    "print('Done')\n"
   ]
  },
  {
   "cell_type": "code",
   "execution_count": null,
   "metadata": {
    "colab": {
     "base_uri": "https://localhost:8080/"
    },
    "id": "K5GnT1SLKUNn",
    "outputId": "0bfde302-90e0-443e-d6be-1103140b0230"
   },
   "outputs": [],
   "source": [
    "import pathlib\n",
    "\n",
    "data_dir = \"../content/Rice_Image_Dataset\"  # Datasets path\n",
    "data_dir = pathlib.Path(data_dir)\n",
    "data_dir\n"
   ]
  },
  {
   "cell_type": "code",
   "execution_count": null,
   "metadata": {
    "colab": {
     "base_uri": "https://localhost:8080/"
    },
    "id": "6_RZ0oCy2RqR",
    "outputId": "9784153b-fba5-4e6a-b8b1-e0f4011cabfa"
   },
   "outputs": [],
   "source": [
    "import pathlib\n",
    "\n",
    "data_dir = pathlib.Path(\"/content/Rice_Image_Dataset\")\n",
    "for category in [\"Arborio\", \"Basmati\", \"Ipsala\", \"Jasmine\", \"Karacadag\"]:\n",
    "    sample_images = list(data_dir.glob(f\"{category}/*\"))\n",
    "    print(f\"{category}: {len(sample_images)} images\")\n",
    "    if sample_images:\n",
    "        print(f\"Sample path: {sample_images[0]}\")\n"
   ]
  },
  {
   "cell_type": "code",
   "execution_count": null,
   "metadata": {
    "id": "2RhIlZH5Kbnz"
   },
   "outputs": [],
   "source": [
    "arborio = list(data_dir.glob('Arborio/*'))[:200]\n",
    "basmati = list(data_dir.glob('Basmati/*'))[:200]\n",
    "ipsala = list(data_dir.glob('Ipsala/*'))[:200]\n",
    "jasmine = list(data_dir.glob('Jasmine/*'))[:200]\n",
    "karacadag = list(data_dir.glob('Karacadag/*'))[:200]\n"
   ]
  },
  {
   "cell_type": "code",
   "execution_count": null,
   "metadata": {
    "id": "qcphORGXKerZ"
   },
   "outputs": [],
   "source": [
    "import tensorflow as tf\n",
    "from tensorflow import keras\n",
    "\n",
    "\n",
    "import tensorflow_hub as hub\n",
    "from sklearn.model_selection import train_test_split\n",
    "import matplotlib.pyplot as plt\n",
    "import matplotlib.image as img\n",
    "import PIL.Image as Image\n",
    "import cv2\n",
    "import os\n",
    "import numpy as np\n"
   ]
  },
  {
   "cell_type": "code",
   "execution_count": null,
   "metadata": {
    "colab": {
     "base_uri": "https://localhost:8080/"
    },
    "id": "5dlg1xroKjTI",
    "outputId": "8e20966b-5bb8-4de1-f413-753e86b7ddd5"
   },
   "outputs": [],
   "source": [
    "img = cv2.imread(str(arborio[0]))  # Reading an image from the dataset\n",
    "print(img.shape)  # Prints the shape of the image (e.g., (250, 250, 3))"
   ]
  },
  {
   "cell_type": "code",
   "execution_count": null,
   "metadata": {
    "id": "JzZREWh1KmO_"
   },
   "outputs": [],
   "source": [
    "df_images = {\n",
    "    'arborio': arborio,\n",
    "    'basmati': basmati,\n",
    "    'ipsala': ipsala,\n",
    "    'jasmine': jasmine,\n",
    "    'karacadag': karacadag\n",
    "}\n",
    "\n",
    "df_labels = {\n",
    "    'arborio': 0,\n",
    "    'basmati': 1,\n",
    "    'ipsala': 2,\n",
    "    'jasmine': 3,\n",
    "    'karacadag': 4\n",
    "}"
   ]
  },
  {
   "cell_type": "code",
   "execution_count": null,
   "metadata": {
    "id": "LSVEintuKuf3"
   },
   "outputs": [],
   "source": [
    "X, y = [], []  # X is the image data, y is the labels\n",
    "for label, images in df_images.items():\n",
    "    for image in images:\n",
    "        img = cv2.imread(str(image))  # Reading the image\n",
    "        resized_img = cv2.resize(img, (224, 224))  # Resizing to 224x224\n",
    "        X.append(resized_img)  # Appending image to X\n",
    "        y.append(df_labels[label])  # Appending label to y\n"
   ]
  },
  {
   "cell_type": "code",
   "execution_count": null,
   "metadata": {
    "id": "92YeqC1VKx5A"
   },
   "outputs": [],
   "source": [
    "X = np.array(X) / 255  # Normalize pixel values to [0, 1]\n",
    "y = np.array(y)  # Convert labels to numpy array"
   ]
  },
  {
   "cell_type": "code",
   "execution_count": null,
   "metadata": {
    "id": "9yRwvFEQK17F"
   },
   "outputs": [],
   "source": [
    "X_train, X_test_val, y_train, y_test_val = train_test_split(X, y)\n",
    "X_test, X_val, y_test, y_val = train_test_split(X_test_val, y_test_val)"
   ]
  },
  {
   "cell_type": "code",
   "execution_count": null,
   "metadata": {
    "colab": {
     "base_uri": "https://localhost:8080/"
    },
    "id": "eUGmY_s72fSm",
    "outputId": "658edb3a-a3ef-424d-9b26-92967162423f"
   },
   "outputs": [],
   "source": [
    "print(f\"X_train shape: {X_train.shape}\")  # Should show (#images, 224, 224, 3)\n",
    "print(f\"y_train shape: {y_train.shape}\")  # Should show (#images,)"
   ]
  },
  {
   "cell_type": "code",
   "execution_count": null,
   "metadata": {
    "colab": {
     "base_uri": "https://localhost:8080/",
     "height": 323
    },
    "id": "oDpRjaFYLXMK",
    "outputId": "097bd564-b5f5-4e66-b80a-be4e4491fa78"
   },
   "outputs": [],
   "source": [
    "fig, ax = plt.subplots(ncols=5, figsize=(20, 5))\n",
    "fig.suptitle('Rice Category')\n",
    "\n",
    "# Use matplotlib.image.imread or cv2.imread instead of img.imread\n",
    "arborio_image = plt.imread(str(arborio[0])) # or cv2.imread\n",
    "basmati_image = plt.imread(str(basmati[0])) # or cv2.imread\n",
    "ipsala_image = plt.imread(str(ipsala[0])) # or cv2.imread\n",
    "jasmine_image = plt.imread(str(jasmine[0])) # or cv2.imread\n",
    "karacadag_image = plt.imread(str(karacadag[0])) # or cv2.imread\n",
    "\n",
    "\n",
    "ax[0].set_title('Arborio')\n",
    "ax[1].set_title('Basmati')\n",
    "ax[2].set_title('Ipsala')\n",
    "ax[3].set_title('Jasmine')\n",
    "ax[4].set_title('Karacadag')\n",
    "\n",
    "ax[0].imshow(arborio_image)\n",
    "ax[1].imshow(basmati_image)\n",
    "ax[2].imshow(ipsala_image)\n",
    "ax[3].imshow(jasmine_image)\n",
    "ax[4].imshow(karacadag_image)"
   ]
  },
  {
   "cell_type": "code",
   "execution_count": null,
   "metadata": {
    "colab": {
     "base_uri": "https://localhost:8080/",
     "height": 193
    },
    "id": "0nG5Td58RqNi",
    "outputId": "fa80fb80-e6be-4972-b710-f686e50e6186"
   },
   "outputs": [],
   "source": [
    "import tensorflow_hub as hub\n",
    "import tensorflow as tf\n",
    "from tensorflow import keras\n",
    "\n",
    "# Load MobileNetV2 feature extractor\n",
    "mobile_net = 'https://tfhub.dev/google/tf2-preview/mobilenet_v2/feature_vector/4'\n",
    "mobile_net = hub.KerasLayer(mobile_net, trainable=False)  # Load the model without the last layer\n",
    "\n",
    "num_labels = 5  # Number of rice classes\n",
    "\n",
    "# Define the model\n",
    "model = keras.Sequential([\n",
    "    keras.layers.InputLayer(shape=(224, 224, 3)),  # Fixed the warning\n",
    "    keras.layers.Lambda(lambda x: mobile_net(x)),  # Use MobileNetV2 feature extractor\n",
    "    keras.layers.Dense(num_labels, activation='softmax')  # Output layer for classification\n",
    "])\n",
    "\n",
    "# Print model summary\n",
    "model.summary()\n",
    "\n",
    "\n",
    "\n",
    "from tensorflow.keras.applications import MobileNetV2\n",
    "from tensorflow.keras.models import Model\n",
    "\n",
    "# Load MobileNetV2 without top layers\n",
    "base_model = MobileNetV2(weights=\"imagenet\", include_top=False, input_shape=(224, 224, 3))\n",
    "\n",
    "# Your model layers\n",
    "x = base_model.output\n",
    "# Add your additional layers here\n",
    "# Example:\n",
    "from tensorflow.keras.layers import GlobalAveragePooling2D, Dense\n",
    "x = GlobalAveragePooling2D()(x)\n",
    "x = Dense(128, activation=\"relu\")(x)\n",
    "output_layer = Dense(5, activation=\"softmax\")(x)  # Assuming 5 rice classes\n",
    "\n",
    "# Final model\n",
    "model = Model(inputs=base_model.input, outputs=output_layer)\n"
   ]
  },
  {
   "cell_type": "code",
   "execution_count": null,
   "metadata": {
    "id": "dW9yHngMSxC2"
   },
   "outputs": [],
   "source": [
    "model.compile(\n",
    "    optimizer=\"adam\",\n",
    "    loss=tf.keras.losses.SparseCategoricalCrossentropy(from_logits=True),\n",
    "    metrics=['acc']\n",
    ")"
   ]
  },
  {
   "cell_type": "code",
   "execution_count": null,
   "metadata": {
    "colab": {
     "base_uri": "https://localhost:8080/"
    },
    "id": "p5J_GrnK3IGs",
    "outputId": "af0c224e-633a-4165-8ebf-872a9cf996da"
   },
   "outputs": [],
   "source": [
    "history = model.fit(X_train, y_train, epochs=10, validation_data=(X_val, y_val))"
   ]
  },
  {
   "cell_type": "code",
   "execution_count": null,
   "metadata": {
    "colab": {
     "base_uri": "https://localhost:8080/"
    },
    "id": "uu-ldOZ_JcoK",
    "outputId": "f032dfd9-285e-4aed-de72-bcddabd24a9d"
   },
   "outputs": [],
   "source": [
    "model.evaluate(X_test,y_test)"
   ]
  },
  {
   "cell_type": "code",
   "execution_count": null,
   "metadata": {
    "colab": {
     "base_uri": "https://localhost:8080/"
    },
    "id": "rIOUykDYI1Dd",
    "outputId": "442bbfb2-b05d-4605-e2aa-40aa99977078"
   },
   "outputs": [],
   "source": [
    "from sklearn.metrics import classification_report\n",
    "y_pred = model. predict(X_test, batch_size=64, verbose=1)\n",
    "y_pred_bool = np.argmax(y_pred, axis=1)\n",
    "\n",
    "print(classification_report(y_test, y_pred_bool))"
   ]
  },
  {
   "cell_type": "code",
   "execution_count": null,
   "metadata": {
    "colab": {
     "base_uri": "https://localhost:8080/",
     "height": 542
    },
    "id": "wQO7VLZpJKbl",
    "outputId": "7dd2a03a-6aa7-440a-963f-28998fd07f56"
   },
   "outputs": [],
   "source": [
    "from plotly.offline import iplot, init_notebook_mode\n",
    "import plotly. express as px\n",
    "import pandas as pd\n",
    "\n",
    "init_notebook_mode(connected=True)\n",
    "\n",
    "acc = pd.DataFrame({ 'train': history.history['acc'], 'val': history.history['val_acc']})\n",
    "\n",
    "fig = px.line(acc, x=acc.index, y=acc.columns[0::], title='Training and Evaluation Accuracy every Epoch')\n",
    "fig.show()"
   ]
  },
  {
   "cell_type": "code",
   "execution_count": null,
   "metadata": {
    "colab": {
     "base_uri": "https://localhost:8080/"
    },
    "id": "5shQ0XJXVaFx",
    "outputId": "2592c3a3-dffa-4966-eb32-a1fc902dc517"
   },
   "outputs": [],
   "source": [
    "a3 = cv2.imread(\"../content/Rice_Image_Dataset/Karacadag/Karacadag (18).jpg\")\n",
    "if a3 is None:\n",
    "    print(f\"Error: Could not read image. Check the file path.\")\n",
    "else:\n",
    "    a3 = cv2.resize(a3, (224, 224))\n",
    "    a3 = np.array(a3)\n",
    "    a3 = a3 / 255\n",
    "    a3 = np.expand_dims(a3, 0)\n",
    "    pred = model.predict(a3)\n",
    "    pred = pred.argmax()\n",
    "    print(pred)\n",
    "    for i, j in df_labels.items():\n",
    "         if pred == j:\n",
    "          print(i)"
   ]
  },
  {
   "cell_type": "code",
   "execution_count": null,
   "metadata": {
    "colab": {
     "base_uri": "https://localhost:8080/"
    },
    "id": "M21pSmnWQeWL",
    "outputId": "dcfd530b-e6ce-40bd-a17c-96e0d07b94ef"
   },
   "outputs": [],
   "source": [
    "a2 = cv2.imread(\"../content/Rice_Image_Dataset/Jasmine/Jasmine (10).jpg\")\n",
    "if a2 is None:\n",
    "    print(f\"Error: Could not read image. Check the file path.\")\n",
    "else:\n",
    "    a2 = cv2.resize(a2, (224, 224))\n",
    "    a1 = np.array(a2)\n",
    "    a2 = a2 / 255\n",
    "    a2 = np.expand_dims(a2, 0)\n",
    "    pred = model.predict(a2)\n",
    "    pred = pred.argmax()\n",
    "    print(pred)\n",
    "    for i, j in df_labels.items():\n",
    "         if pred == j:\n",
    "          print(i)"
   ]
  },
  {
   "cell_type": "code",
   "execution_count": null,
   "metadata": {
    "colab": {
     "base_uri": "https://localhost:8080/"
    },
    "id": "PCRRd4B2I9Jq",
    "outputId": "b7b9e286-a778-418e-bd37-e8278dc78190"
   },
   "outputs": [],
   "source": [
    "a1 = cv2.imread(\"../content/Rice_Image_Dataset/Basmati/basmati (10).jpg\")\n",
    "if a1 is None:\n",
    "    print(f\"Error: Could not read image. Check the file path.\")\n",
    "else:\n",
    "    a1 = cv2.resize(a1, (224, 224))\n",
    "    a1 = np.array(a1)\n",
    "    a1 = a1 / 255\n",
    "    a1 = np.expand_dims(a1, 0)\n",
    "    pred = model.predict(a1)\n",
    "    pred = pred.argmax()\n",
    "    print(pred)\n",
    "    for i, j in df_labels.items():\n",
    "         if pred == j:\n",
    "          print(i)"
   ]
  },
  {
   "cell_type": "code",
   "execution_count": null,
   "metadata": {
    "id": "3vlmKCwFLwOQ"
   },
   "outputs": [],
   "source": [
    "model.save('my_model.keras')"
   ]
  },
  {
   "cell_type": "code",
   "execution_count": null,
   "metadata": {
    "id": "s0Rqv6d3R0Iu"
   },
   "outputs": [],
   "source": [
    "from tensorflow.keras.applications import MobileNetV2\n",
    "from tensorflow.keras.models import Model\n",
    "\n",
    "# Load MobileNetV2 without top layers\n",
    "base_model = MobileNetV2(weights=\"imagenet\", include_top=False, input_shape=(224, 224, 3))\n",
    "\n",
    "# Your model layers\n",
    "x = base_model.output\n",
    "# Add your additional layers here\n",
    "# Example:\n",
    "from tensorflow.keras.layers import GlobalAveragePooling2D, Dense\n",
    "x = GlobalAveragePooling2D()(x)\n",
    "x = Dense(128, activation=\"relu\")(x)\n",
    "output_layer = Dense(5, activation=\"softmax\")(x)  # Assuming 5 rice classes\n",
    "\n",
    "# Final model\n",
    "model = Model(inputs=base_model.input, outputs=output_layer)\n",
    "\n",
    "# Save the model properly (no Lambda layers)\n",
    "model.save(\"my_model.keras\")\n"
   ]
  },
  {
   "cell_type": "code",
   "execution_count": null,
   "metadata": {
    "colab": {
     "base_uri": "https://localhost:8080/",
     "height": 17
    },
    "id": "fy_enlB0WTja",
    "outputId": "c95bac0f-cad0-44b1-8377-86d0b19857cd"
   },
   "outputs": [],
   "source": [
    "from google.colab import files\n",
    "files.download(\"my_model.keras\")"
   ]
  },
  {
   "cell_type": "code",
   "execution_count": null,
   "metadata": {
    "id": "hi92Ueh1Fbdl"
   },
   "outputs": [],
   "source": []
  }
 ],
 "metadata": {
  "accelerator": "GPU",
  "colab": {
   "gpuType": "T4",
   "provenance": []
  },
  "kernelspec": {
   "display_name": "Python 3 (ipykernel)",
   "language": "python",
   "name": "python3"
  },
  "language_info": {
   "codemirror_mode": {
    "name": "ipython",
    "version": 3
   },
   "file_extension": ".py",
   "mimetype": "text/x-python",
   "name": "python",
   "nbconvert_exporter": "python",
   "pygments_lexer": "ipython3",
   "version": "3.12.7"
  }
 },
 "nbformat": 4,
 "nbformat_minor": 4
}
